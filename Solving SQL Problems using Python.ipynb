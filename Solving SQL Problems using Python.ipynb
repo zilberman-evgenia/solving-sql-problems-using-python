{
 "cells": [
  {
   "cell_type": "markdown",
   "metadata": {},
   "source": [
    "<h1 style=\"color:green; margin-bottom:15px;font-size:30px\">Solving SQL Problems using Python</h1"
   ]
  },
  {
   "cell_type": "markdown",
   "metadata": {},
   "source": [
    "# Project Description\n",
    "\n",
    "Your company decided to be on the wave and bought a large service for reading books by subscription. Your job as an analyst is to analyze the database. It contains information about books, publishers, authors, as well as user reviews of books. "
   ]
  },
  {
   "cell_type": "markdown",
   "metadata": {},
   "source": [
    "# Tasks\n",
    "\n",
    "- Count how many books have been published since January 1, 2000;\n",
    "- For each book, count the number of reviews and the average rating;\n",
    "- Find the publisher that has released the largest number of books thicker than 50 pages;\n",
    "- Identify the author with the highest average book rating - consider only books with 50 or more ratings;\n",
    "- Calculate the average number of reviews from users who have given more than 50 ratings."
   ]
  },
  {
   "cell_type": "markdown",
   "metadata": {},
   "source": [
    "# Content\n",
    "1. Database Connection\n",
    "2. Data Import and Analysis\n",
    "3. Data Description\n",
    "4. Problem Solving\n",
    "5. Conslusion"
   ]
  },
  {
   "cell_type": "markdown",
   "metadata": {},
   "source": [
    "## 1. Database Connection"
   ]
  },
  {
   "cell_type": "code",
   "execution_count": 1,
   "metadata": {},
   "outputs": [],
   "source": [
    "import pandas as pd\n",
    "from sqlalchemy import create_engine\n",
    "\n",
    "\n",
    "db_config = {'user': 'praktikum_student', \n",
    " 'pwd': 'Sdf4$2;d-d30pp', \n",
    " 'host': 'rc1b-wcoijxj3yxfsf3fs.mdb.yandexcloud.net',\n",
    " 'port': 6432, \n",
    " 'db': 'data-analyst-final-project-db'} \n",
    "connection_string = 'postgresql://{}:{}@{}:{}/{}'.format(db_config['user'],\n",
    " db_config['pwd'],\n",
    " db_config['host'],\n",
    " db_config['port'],\n",
    " db_config['db'])\n",
    "\n",
    "engine = create_engine(connection_string, connect_args={'sslmode':'require'}) "
   ]
  },
  {
   "cell_type": "markdown",
   "metadata": {},
   "source": [
    "## 2. Data Import and Analysis"
   ]
  },
  {
   "cell_type": "markdown",
   "metadata": {},
   "source": [
    "### 2.1 Authors table"
   ]
  },
  {
   "cell_type": "code",
   "execution_count": 2,
   "metadata": {},
   "outputs": [
    {
     "name": "stdout",
     "output_type": "stream",
     "text": [
      "   author_id                          author\n",
      "0          1                      A.S. Byatt\n",
      "1          2  Aesop/Laura Harris/Laura Gibbs\n",
      "2          3                 Agatha Christie\n",
      "3          4                   Alan Brennert\n",
      "4          5        Alan Moore/David   Lloyd\n",
      "<class 'pandas.core.frame.DataFrame'>\n",
      "RangeIndex: 636 entries, 0 to 635\n",
      "Data columns (total 2 columns):\n",
      " #   Column     Non-Null Count  Dtype \n",
      "---  ------     --------------  ----- \n",
      " 0   author_id  636 non-null    int64 \n",
      " 1   author     636 non-null    object\n",
      "dtypes: int64(1), object(1)\n",
      "memory usage: 10.1+ KB\n",
      "None\n"
     ]
    }
   ],
   "source": [
    "query = ''' SELECT *  FROM authors'''\n",
    "authors = pd.io.sql.read_sql(query, con=engine)\n",
    "\n",
    "print(authors.head(5))\n",
    "print(authors.info())"
   ]
  },
  {
   "cell_type": "code",
   "execution_count": 3,
   "metadata": {},
   "outputs": [
    {
     "name": "stdout",
     "output_type": "stream",
     "text": [
      "Unique authors: 636\n",
      "Unique author_ids: 636\n"
     ]
    }
   ],
   "source": [
    "#Проверим на дубликаты\n",
    "print('Unique authors:', authors['author'].nunique())\n",
    "print('Unique author_ids:', authors['author_id'].nunique())"
   ]
  },
  {
   "cell_type": "markdown",
   "metadata": {},
   "source": [
    "There are no gaps and duplicates among the authors"
   ]
  },
  {
   "cell_type": "markdown",
   "metadata": {},
   "source": [
    "### 2.2 Books table"
   ]
  },
  {
   "cell_type": "code",
   "execution_count": 4,
   "metadata": {},
   "outputs": [
    {
     "name": "stdout",
     "output_type": "stream",
     "text": [
      "   book_id  author_id                                              title  \\\n",
      "0        1        546                                       'Salem's Lot   \n",
      "1        2        465                 1 000 Places to See Before You Die   \n",
      "2        3        407  13 Little Blue Envelopes (Little Blue Envelope...   \n",
      "3        4         82  1491: New Revelations of the Americas Before C...   \n",
      "4        5        125                                               1776   \n",
      "\n",
      "   num_pages publication_date  publisher_id  \n",
      "0        594       2005-11-01            93  \n",
      "1        992       2003-05-22           336  \n",
      "2        322       2010-12-21           135  \n",
      "3        541       2006-10-10           309  \n",
      "4        386       2006-07-04           268  \n",
      "<class 'pandas.core.frame.DataFrame'>\n",
      "RangeIndex: 1000 entries, 0 to 999\n",
      "Data columns (total 6 columns):\n",
      " #   Column            Non-Null Count  Dtype         \n",
      "---  ------            --------------  -----         \n",
      " 0   book_id           1000 non-null   int64         \n",
      " 1   author_id         1000 non-null   int64         \n",
      " 2   title             1000 non-null   object        \n",
      " 3   num_pages         1000 non-null   int64         \n",
      " 4   publication_date  1000 non-null   datetime64[ns]\n",
      " 5   publisher_id      1000 non-null   int64         \n",
      "dtypes: datetime64[ns](1), int64(4), object(1)\n",
      "memory usage: 47.0+ KB\n",
      "None\n"
     ]
    }
   ],
   "source": [
    "query = ''' SELECT *  FROM books'''\n",
    "books = pd.io.sql.read_sql(query, con=engine)\n",
    "books['publication_date'] = pd.to_datetime(books['publication_date'])\n",
    "print(books.head(5))\n",
    "print(books.info())"
   ]
  },
  {
   "cell_type": "code",
   "execution_count": 5,
   "metadata": {},
   "outputs": [
    {
     "name": "stdout",
     "output_type": "stream",
     "text": [
      "Unique book_ids: 1000\n",
      "Unique author_ids: 636\n",
      "Unique titles: 999\n",
      "Unique publisher_ids: 340\n"
     ]
    }
   ],
   "source": [
    "print('Unique book_ids:', books['book_id'].nunique())\n",
    "print('Unique author_ids:', books['author_id'].nunique())\n",
    "print('Unique titles:', books['title'].nunique())\n",
    "print('Unique publisher_ids:', books['publisher_id'].nunique())"
   ]
  },
  {
   "cell_type": "code",
   "execution_count": 6,
   "metadata": {},
   "outputs": [
    {
     "data": {
      "text/plain": [
       "0      False\n",
       "658    False\n",
       "659    False\n",
       "660    False\n",
       "661    False\n",
       "       ...  \n",
       "339    False\n",
       "327    False\n",
       "999    False\n",
       "425     True\n",
       "426     True\n",
       "Length: 1000, dtype: bool"
      ]
     },
     "execution_count": 6,
     "metadata": {},
     "output_type": "execute_result"
    }
   ],
   "source": [
    "books.duplicated(subset='title',keep=False).sort_values()"
   ]
  },
  {
   "cell_type": "code",
   "execution_count": 7,
   "metadata": {},
   "outputs": [
    {
     "data": {
      "text/html": [
       "<div>\n",
       "<style scoped>\n",
       "    .dataframe tbody tr th:only-of-type {\n",
       "        vertical-align: middle;\n",
       "    }\n",
       "\n",
       "    .dataframe tbody tr th {\n",
       "        vertical-align: top;\n",
       "    }\n",
       "\n",
       "    .dataframe thead th {\n",
       "        text-align: right;\n",
       "    }\n",
       "</style>\n",
       "<table border=\"1\" class=\"dataframe\">\n",
       "  <thead>\n",
       "    <tr style=\"text-align: right;\">\n",
       "      <th></th>\n",
       "      <th>book_id</th>\n",
       "      <th>author_id</th>\n",
       "      <th>title</th>\n",
       "      <th>num_pages</th>\n",
       "      <th>publication_date</th>\n",
       "      <th>publisher_id</th>\n",
       "    </tr>\n",
       "  </thead>\n",
       "  <tbody>\n",
       "    <tr>\n",
       "      <th>426</th>\n",
       "      <td>427</td>\n",
       "      <td>39</td>\n",
       "      <td>Memoirs of a Geisha</td>\n",
       "      <td>503</td>\n",
       "      <td>2005-11-22</td>\n",
       "      <td>311</td>\n",
       "    </tr>\n",
       "  </tbody>\n",
       "</table>\n",
       "</div>"
      ],
      "text/plain": [
       "     book_id  author_id                title  num_pages publication_date  \\\n",
       "426      427         39  Memoirs of a Geisha        503       2005-11-22   \n",
       "\n",
       "     publisher_id  \n",
       "426           311  "
      ]
     },
     "execution_count": 7,
     "metadata": {},
     "output_type": "execute_result"
    }
   ],
   "source": [
    "books[books['book_id'] == 427]"
   ]
  },
  {
   "cell_type": "code",
   "execution_count": 8,
   "metadata": {},
   "outputs": [
    {
     "data": {
      "text/html": [
       "<div>\n",
       "<style scoped>\n",
       "    .dataframe tbody tr th:only-of-type {\n",
       "        vertical-align: middle;\n",
       "    }\n",
       "\n",
       "    .dataframe tbody tr th {\n",
       "        vertical-align: top;\n",
       "    }\n",
       "\n",
       "    .dataframe thead th {\n",
       "        text-align: right;\n",
       "    }\n",
       "</style>\n",
       "<table border=\"1\" class=\"dataframe\">\n",
       "  <thead>\n",
       "    <tr style=\"text-align: right;\">\n",
       "      <th></th>\n",
       "      <th>book_id</th>\n",
       "      <th>author_id</th>\n",
       "      <th>title</th>\n",
       "      <th>num_pages</th>\n",
       "      <th>publication_date</th>\n",
       "      <th>publisher_id</th>\n",
       "    </tr>\n",
       "  </thead>\n",
       "  <tbody>\n",
       "    <tr>\n",
       "      <th>425</th>\n",
       "      <td>426</td>\n",
       "      <td>39</td>\n",
       "      <td>Memoirs of a Geisha</td>\n",
       "      <td>434</td>\n",
       "      <td>2005-11-15</td>\n",
       "      <td>241</td>\n",
       "    </tr>\n",
       "  </tbody>\n",
       "</table>\n",
       "</div>"
      ],
      "text/plain": [
       "     book_id  author_id                title  num_pages publication_date  \\\n",
       "425      426         39  Memoirs of a Geisha        434       2005-11-15   \n",
       "\n",
       "     publisher_id  \n",
       "425           241  "
      ]
     },
     "execution_count": 8,
     "metadata": {},
     "output_type": "execute_result"
    }
   ],
   "source": [
    "books[books['book_id'] == 426]"
   ]
  },
  {
   "cell_type": "code",
   "execution_count": 9,
   "metadata": {},
   "outputs": [
    {
     "name": "stderr",
     "output_type": "stream",
     "text": [
      "<ipython-input-9-6895b3c221c5>:1: FutureWarning: Treating datetime data as categorical rather than numeric in `.describe` is deprecated and will be removed in a future version of pandas. Specify `datetime_is_numeric=True` to silence this warning and adopt the future behavior now.\n",
      "  books['publication_date'].describe()\n"
     ]
    },
    {
     "data": {
      "text/plain": [
       "count                    1000\n",
       "unique                    618\n",
       "top       2006-08-29 00:00:00\n",
       "freq                       10\n",
       "first     1952-12-01 00:00:00\n",
       "last      2020-03-31 00:00:00\n",
       "Name: publication_date, dtype: object"
      ]
     },
     "execution_count": 9,
     "metadata": {},
     "output_type": "execute_result"
    }
   ],
   "source": [
    "books['publication_date'].describe()"
   ]
  },
  {
   "cell_type": "markdown",
   "metadata": {},
   "source": [
    "There are no duplicates or gaps in the books table. The table contains 1000 books from 636 authors and 340 publishers. The table contains books with a publication date between 1952-12-01 and 2020-03-31. Book 'Memoirs of a Geisha' is recorded twice, under book_id 426 and 427."
   ]
  },
  {
   "cell_type": "markdown",
   "metadata": {},
   "source": [
    "### 2.3 Publishers table"
   ]
  },
  {
   "cell_type": "code",
   "execution_count": 10,
   "metadata": {},
   "outputs": [
    {
     "name": "stdout",
     "output_type": "stream",
     "text": [
      "   publisher_id                          publisher\n",
      "0             1                                Ace\n",
      "1             2                           Ace Book\n",
      "2             3                          Ace Books\n",
      "3             4                      Ace Hardcover\n",
      "4             5  Addison Wesley Publishing Company\n",
      "<class 'pandas.core.frame.DataFrame'>\n",
      "RangeIndex: 340 entries, 0 to 339\n",
      "Data columns (total 2 columns):\n",
      " #   Column        Non-Null Count  Dtype \n",
      "---  ------        --------------  ----- \n",
      " 0   publisher_id  340 non-null    int64 \n",
      " 1   publisher     340 non-null    object\n",
      "dtypes: int64(1), object(1)\n",
      "memory usage: 5.4+ KB\n",
      "None\n"
     ]
    }
   ],
   "source": [
    "query = ''' SELECT *  FROM publishers'''\n",
    "publishers = pd.io.sql.read_sql(query, con=engine)\n",
    "\n",
    "print(publishers.head(5))\n",
    "print(publishers.info())"
   ]
  },
  {
   "cell_type": "code",
   "execution_count": 11,
   "metadata": {},
   "outputs": [
    {
     "name": "stdout",
     "output_type": "stream",
     "text": [
      "Unique publisher_ids: 340\n",
      "Unique publishers: 340\n"
     ]
    }
   ],
   "source": [
    "print('Unique publisher_ids:', publishers['publisher_id'].nunique())\n",
    "print('Unique publishers:', publishers['publisher'].nunique())"
   ]
  },
  {
   "cell_type": "markdown",
   "metadata": {},
   "source": [
    "There are no duplicates or gaps among the publishers."
   ]
  },
  {
   "cell_type": "markdown",
   "metadata": {},
   "source": [
    "### 2.4 Reviews table"
   ]
  },
  {
   "cell_type": "code",
   "execution_count": 12,
   "metadata": {},
   "outputs": [
    {
     "name": "stdout",
     "output_type": "stream",
     "text": [
      "   review_id  book_id       username  \\\n",
      "0          1        1   brandtandrea   \n",
      "1          2        1     ryanfranco   \n",
      "2          3        2       lorichen   \n",
      "3          4        3  johnsonamanda   \n",
      "4          5        3    scotttamara   \n",
      "\n",
      "                                                text  \n",
      "0  Mention society tell send professor analysis. ...  \n",
      "1  Foot glass pretty audience hit themselves. Amo...  \n",
      "2  Listen treat keep worry. Miss husband tax but ...  \n",
      "3  Finally month interesting blue could nature cu...  \n",
      "4  Nation purpose heavy give wait song will. List...  \n",
      "<class 'pandas.core.frame.DataFrame'>\n",
      "RangeIndex: 2793 entries, 0 to 2792\n",
      "Data columns (total 4 columns):\n",
      " #   Column     Non-Null Count  Dtype \n",
      "---  ------     --------------  ----- \n",
      " 0   review_id  2793 non-null   int64 \n",
      " 1   book_id    2793 non-null   int64 \n",
      " 2   username   2793 non-null   object\n",
      " 3   text       2793 non-null   object\n",
      "dtypes: int64(2), object(2)\n",
      "memory usage: 87.4+ KB\n",
      "None\n"
     ]
    }
   ],
   "source": [
    "query = ''' SELECT *  FROM reviews'''\n",
    "reviews = pd.io.sql.read_sql(query, con=engine)\n",
    "\n",
    "print(reviews.head(5))\n",
    "print(reviews.info())"
   ]
  },
  {
   "cell_type": "code",
   "execution_count": 13,
   "metadata": {},
   "outputs": [
    {
     "name": "stdout",
     "output_type": "stream",
     "text": [
      "Unique review_ids: 2793\n",
      "Unique book_ids: 994\n",
      "Unique usernames: 160\n"
     ]
    }
   ],
   "source": [
    "print('Unique review_ids:', reviews['review_id'].nunique())\n",
    "print('Unique book_ids:', reviews['book_id'].nunique())\n",
    "print('Unique usernames:', reviews['username'].nunique())"
   ]
  },
  {
   "cell_type": "markdown",
   "metadata": {},
   "source": [
    "The table with reviews contains 2793 reviews on 994 books from 160 users, no gaps or duplicates."
   ]
  },
  {
   "cell_type": "markdown",
   "metadata": {},
   "source": [
    "### 2.5 Ratings table"
   ]
  },
  {
   "cell_type": "code",
   "execution_count": 14,
   "metadata": {},
   "outputs": [
    {
     "name": "stdout",
     "output_type": "stream",
     "text": [
      "   rating_id  book_id       username  rating\n",
      "0          1        1     ryanfranco       4\n",
      "1          2        1  grantpatricia       2\n",
      "2          3        1   brandtandrea       5\n",
      "3          4        2       lorichen       3\n",
      "4          5        2    mariokeller       2\n",
      "<class 'pandas.core.frame.DataFrame'>\n",
      "RangeIndex: 6456 entries, 0 to 6455\n",
      "Data columns (total 4 columns):\n",
      " #   Column     Non-Null Count  Dtype \n",
      "---  ------     --------------  ----- \n",
      " 0   rating_id  6456 non-null   int64 \n",
      " 1   book_id    6456 non-null   int64 \n",
      " 2   username   6456 non-null   object\n",
      " 3   rating     6456 non-null   int64 \n",
      "dtypes: int64(3), object(1)\n",
      "memory usage: 201.9+ KB\n",
      "None\n"
     ]
    }
   ],
   "source": [
    "query = ''' SELECT *  FROM ratings'''\n",
    "ratings = pd.io.sql.read_sql(query, con=engine)\n",
    "\n",
    "print(ratings.head(5))\n",
    "print(ratings.info())"
   ]
  },
  {
   "cell_type": "code",
   "execution_count": 15,
   "metadata": {},
   "outputs": [
    {
     "name": "stdout",
     "output_type": "stream",
     "text": [
      "Unique rating_ids: 6456\n",
      "Unique book_ids: 1000\n",
      "Unique usernames: 160\n",
      "Unique ratings: 5\n"
     ]
    }
   ],
   "source": [
    "print('Unique rating_ids:', ratings['rating_id'].nunique())\n",
    "print('Unique book_ids:', ratings['book_id'].nunique())\n",
    "print('Unique usernames:', ratings['username'].nunique())\n",
    "print('Unique ratings:', ratings['rating'].nunique())"
   ]
  },
  {
   "cell_type": "markdown",
   "metadata": {},
   "source": [
    "The table with ratings contains 6456 ratings (from 1 to 5) from 160 users of 1000 books, no gaps or duplicates."
   ]
  },
  {
   "cell_type": "markdown",
   "metadata": {},
   "source": [
    "### 2.6 Let's check that users, books, publishers and authors are the same in different tables"
   ]
  },
  {
   "cell_type": "code",
   "execution_count": 16,
   "metadata": {},
   "outputs": [
    {
     "data": {
      "text/plain": [
       "1000"
      ]
     },
     "execution_count": 16,
     "metadata": {},
     "output_type": "execute_result"
    }
   ],
   "source": [
    "ratings_books = ratings['book_id'].unique()\n",
    "books_books = books['book_id'].unique()\n",
    "\n",
    "pd.Series(list(set(ratings_books).intersection(set(books_books)))).count()"
   ]
  },
  {
   "cell_type": "code",
   "execution_count": 17,
   "metadata": {},
   "outputs": [
    {
     "data": {
      "text/plain": [
       "160"
      ]
     },
     "execution_count": 17,
     "metadata": {},
     "output_type": "execute_result"
    }
   ],
   "source": [
    "ratings_username = ratings['username'].unique()\n",
    "reviews_username = reviews['username'].unique()\n",
    "\n",
    "pd.Series(list(set(ratings_username).intersection(set(reviews_username)))).count()"
   ]
  },
  {
   "cell_type": "code",
   "execution_count": 18,
   "metadata": {},
   "outputs": [
    {
     "data": {
      "text/plain": [
       "994"
      ]
     },
     "execution_count": 18,
     "metadata": {},
     "output_type": "execute_result"
    }
   ],
   "source": [
    "reviews_books = reviews['book_id'].unique()\n",
    "books_books = books['book_id'].unique()\n",
    "\n",
    "pd.Series(list(set(reviews_books).intersection(set(books_books)))).count()"
   ]
  },
  {
   "cell_type": "code",
   "execution_count": 19,
   "metadata": {},
   "outputs": [
    {
     "data": {
      "text/plain": [
       "1000"
      ]
     },
     "execution_count": 19,
     "metadata": {},
     "output_type": "execute_result"
    }
   ],
   "source": [
    "ratings_books = ratings['book_id'].unique()\n",
    "books_books = books['book_id'].unique()\n",
    "\n",
    "pd.Series(list(set(ratings_books).intersection(set(books_books)))).count()"
   ]
  },
  {
   "cell_type": "code",
   "execution_count": 20,
   "metadata": {},
   "outputs": [
    {
     "data": {
      "text/plain": [
       "340"
      ]
     },
     "execution_count": 20,
     "metadata": {},
     "output_type": "execute_result"
    }
   ],
   "source": [
    "authors_publisher = publishers['publisher_id'].unique()\n",
    "publishers_publisher = books['publisher_id'].unique()\n",
    "\n",
    "pd.Series(list(set(authors_publisher).intersection(set(publishers_publisher)))).count()"
   ]
  },
  {
   "cell_type": "code",
   "execution_count": 21,
   "metadata": {},
   "outputs": [
    {
     "data": {
      "text/plain": [
       "636"
      ]
     },
     "execution_count": 21,
     "metadata": {},
     "output_type": "execute_result"
    }
   ],
   "source": [
    "authors_author = authors['author_id'].unique()\n",
    "books_author = books['author_id'].unique()\n",
    "\n",
    "pd.Series(list(set(authors_author).intersection(set(books_author)))).count()"
   ]
  },
  {
   "cell_type": "markdown",
   "metadata": {},
   "source": [
    "All good. Users, books, publishers and authors in different tables are the same."
   ]
  },
  {
   "cell_type": "markdown",
   "metadata": {},
   "source": [
    "## 3. Data Description\n",
    "\n",
    "**Books table** contains information about books:\n",
    "- book_id \n",
    "- author_id \n",
    "- title \n",
    "- num_pages\n",
    "- publication_date\n",
    "- publisher_id\n",
    "\n",
    "**Authors table** contains information about the authors:\n",
    "- author_id \n",
    "- author — author's name.\n",
    "\n",
    "**Publishers table** contains information about publishers:\n",
    "- publisher_id \n",
    "- publisher — publisher name\n",
    "\n",
    "**Table ratings** contains information about user ratings of books:\n",
    "- rating_id \n",
    "- book_id \n",
    "- username — name of the user who left the rating\n",
    "- rating — book rating\n",
    "\n",
    "**Reviews table** contains information about user reviews:\n",
    "- review_id \n",
    "- book_id \n",
    "- username — review author's name;\n",
    "- text — review text.\n",
    "\n",
    "\n",
    "The tables do not contain gaps and duplicates, but:\n",
    "- 'Memoirs of a Geisha' book is recorded twice, under book_id 426 and 427\n",
    "- Reviews table contains reviews for 994 out of 1000 books."
   ]
  },
  {
   "cell_type": "markdown",
   "metadata": {},
   "source": [
    "## 4. Problem Solving"
   ]
  },
  {
   "cell_type": "markdown",
   "metadata": {},
   "source": [
    "### 4.1 Count how many books have been published since January 1, 2000\n",
    "\n",
    "Identify the author with the highest average book rating - consider only books with 50 or more ratings;\n",
    "Calculate the average number of reviews from users who have given more than 50 ratings."
   ]
  },
  {
   "cell_type": "code",
   "execution_count": 22,
   "metadata": {},
   "outputs": [
    {
     "name": "stdout",
     "output_type": "stream",
     "text": [
      "   count\n",
      "0    821\n"
     ]
    }
   ],
   "source": [
    "query1 = ''' SELECT COUNT(book_id) FROM books WHERE publication_date BETWEEN '2000-01-01' AND '2022-01-30' '''\n",
    "task1 = pd.io.sql.read_sql(query1, con=engine)\n",
    "\n",
    "print(task1)"
   ]
  },
  {
   "cell_type": "markdown",
   "metadata": {},
   "source": [
    "*821 books have been published after January 1, 2000*"
   ]
  },
  {
   "cell_type": "markdown",
   "metadata": {},
   "source": [
    "### 4.2 For each book, count the number of reviews and the average rating"
   ]
  },
  {
   "cell_type": "code",
   "execution_count": 23,
   "metadata": {},
   "outputs": [
    {
     "name": "stdout",
     "output_type": "stream",
     "text": [
      "                                                 title  reviews_count  \\\n",
      "0                                  Memoirs of a Geisha              8   \n",
      "1                              Twilight (Twilight  #1)              7   \n",
      "2    Harry Potter and the Chamber of Secrets (Harry...              6   \n",
      "3                                     The Glass Castle              6   \n",
      "4                                      Eat  Pray  Love              6   \n",
      "..                                                 ...            ...   \n",
      "994    Anne Rice's The Vampire Lestat: A Graphic Novel              0   \n",
      "995                            The Natural Way to Draw              0   \n",
      "996   The Cat in the Hat and Other Dr. Seuss Favorites              0   \n",
      "997                          Essential Tales and Poems              0   \n",
      "998  Disney's Beauty and the Beast (A Little Golden...              0   \n",
      "\n",
      "     avg_rating  \n",
      "0      4.138462  \n",
      "1      3.662500  \n",
      "2      4.287500  \n",
      "3      4.206897  \n",
      "4      3.395833  \n",
      "..          ...  \n",
      "994    3.666667  \n",
      "995    3.000000  \n",
      "996    5.000000  \n",
      "997    4.000000  \n",
      "998    4.000000  \n",
      "\n",
      "[999 rows x 3 columns]\n"
     ]
    }
   ],
   "source": [
    "query2 = ''' \n",
    "\n",
    "SELECT books.title, count(distinct reviews.review_id) as reviews_count, avg(ratings.rating) as avg_rating\n",
    "FROM books\n",
    "LEFT JOIN reviews on books.book_id = reviews.book_id\n",
    "LEFT JOIN ratings on books.book_id = ratings.book_id\n",
    "group by books.title\n",
    "order by reviews_count DESC\n",
    "\n",
    "'''\n",
    "task2 = pd.io.sql.read_sql(query2, con=engine)\n",
    "print(task2)"
   ]
  },
  {
   "cell_type": "markdown",
   "metadata": {},
   "source": [
    "*Books with most reviews:*\n",
    "- Memoirs of a Geisha - 8, rating 4.14 (this may change once the book is recorded under one id instead of two)\n",
    "- Twilight. Part 1 - 7, rating 3.66"
   ]
  },
  {
   "cell_type": "markdown",
   "metadata": {},
   "source": [
    "### 4.3 Find the publisher that has released the largest number of books thicker than 50 pages"
   ]
  },
  {
   "cell_type": "code",
   "execution_count": 24,
   "metadata": {},
   "outputs": [
    {
     "name": "stdout",
     "output_type": "stream",
     "text": [
      "       publisher  books_count\n",
      "0  Penguin Books           42\n"
     ]
    }
   ],
   "source": [
    "query3 = ''' \n",
    "\n",
    "SELECT publishers.publisher, count(books.book_id) as books_count\n",
    "FROM books\n",
    "LEFT JOIN publishers on books.publisher_id = publishers.publisher_id\n",
    "where books.num_pages > 50\n",
    "group by publishers.publisher\n",
    "order by books_count desc\n",
    "limit 1\n",
    "'''\n",
    "task3 = pd.io.sql.read_sql(query3, con=engine)\n",
    "\n",
    "print(task3)"
   ]
  },
  {
   "cell_type": "markdown",
   "metadata": {},
   "source": [
    "*Most books thicker than 50 books were published by Penguin Books*"
   ]
  },
  {
   "cell_type": "markdown",
   "metadata": {},
   "source": [
    "### 4.4 Identify the author with the highest average book rating - consider only books with 50 or more ratings"
   ]
  },
  {
   "cell_type": "code",
   "execution_count": 25,
   "metadata": {},
   "outputs": [
    {
     "name": "stdout",
     "output_type": "stream",
     "text": [
      "                       author  avg_rating\n",
      "0  J.K. Rowling/Mary GrandPré    4.287097\n"
     ]
    }
   ],
   "source": [
    "query4 = ''' \n",
    "\n",
    "SELECT authors.author, avg(ratings.rating) as avg_rating\n",
    "\n",
    "FROM books\n",
    "\n",
    "INNER JOIN authors on books.author_id = authors.author_id\n",
    "INNER JOIN ratings on books.book_id = ratings.book_id\n",
    "INNER JOIN\n",
    "(\n",
    "SELECT ratings.book_id, count(ratings.rating) as marks\n",
    "FROM ratings\n",
    "group by ratings.book_id\n",
    "order by marks desc\n",
    ")\n",
    "as SUBQ ON books.book_id = SUBQ.book_id\n",
    "\n",
    "where SUBQ.marks > 50\n",
    "group by authors.author\n",
    "order by avg_rating desc\n",
    "limit 1\n",
    "\n",
    "'''\n",
    "task4 = pd.io.sql.read_sql(query4, con=engine)\n",
    "\n",
    "print(task4)"
   ]
  },
  {
   "cell_type": "markdown",
   "metadata": {},
   "source": [
    "*The author with the highest average rating for books with more than 50 ratings is J.K. Rowling (4.287)*"
   ]
  },
  {
   "cell_type": "markdown",
   "metadata": {},
   "source": [
    "### 4.5 Calculate the average number of reviews from users who have given more than 50 ratings"
   ]
  },
  {
   "cell_type": "code",
   "execution_count": 26,
   "metadata": {},
   "outputs": [
    {
     "name": "stdout",
     "output_type": "stream",
     "text": [
      "         avg\n",
      "0  24.333333\n"
     ]
    }
   ],
   "source": [
    "query5 = ''' \n",
    "\n",
    "select avg(SUBQ2.reviews) from\n",
    "(\n",
    "select count(reviews.review_id) as reviews\n",
    "from reviews\n",
    "INNER JOIN\n",
    "(\n",
    "SELECT ratings.username, count(ratings.rating) as marks\n",
    "FROM ratings\n",
    "group by ratings.username\n",
    "order by marks desc\n",
    ")\n",
    "as SUBQ ON reviews.username = SUBQ.username\n",
    "where SUBQ.marks >50\n",
    "group by reviews.username\n",
    ")\n",
    "as SUBQ2\n",
    "\n",
    "'''\n",
    "task5 = pd.io.sql.read_sql(query5, con=engine)\n",
    "\n",
    "print(task5)"
   ]
  },
  {
   "cell_type": "markdown",
   "metadata": {},
   "source": [
    "*The average number of reviews from users who have given more than 50 ratings is 24.33*"
   ]
  },
  {
   "cell_type": "markdown",
   "metadata": {},
   "source": [
    "## 5. Conclusions"
   ]
  },
  {
   "cell_type": "markdown",
   "metadata": {},
   "source": [
    "The tables do not contain gaps and duplicates, but:\n",
    "'Memoirs of a Geisha' book is recorded twice, under book_id 426 and 427\n",
    "\n",
    "In this task, I do not have permissions to edit the DB; in real life, I would send a request to the database admin.\n",
    "\n",
    "**Problem Solving**\n",
    "1. 821 books have been published after January 1, 2000\n",
    "2. Books with most reviews:\n",
    "- Memoirs of a Geisha - 8, rating 4.14 (this may change once the book is recorded under one id instead of two)\n",
    "- Twilight. Part 1 - 7, rating 3.66\n",
    "\n",
    "3. Most books thicker than 50 books were published by Penguin Books\n",
    "4. The author with the highest average rating for books with more than 50 ratings is J.K. Rowling (4.287)\n",
    "5. The average number of reviews from users who have given more than 50 ratings is 24.33\n"
   ]
  },
  {
   "cell_type": "code",
   "execution_count": null,
   "metadata": {},
   "outputs": [],
   "source": []
  }
 ],
 "metadata": {
  "ExecuteTimeLog": [
   {
    "duration": 94,
    "start_time": "2022-01-27T17:00:48.129Z"
   },
   {
    "duration": 1358,
    "start_time": "2022-01-27T17:04:57.445Z"
   },
   {
    "duration": 177,
    "start_time": "2022-01-27T17:05:06.346Z"
   },
   {
    "duration": 266,
    "start_time": "2022-01-27T17:11:55.527Z"
   },
   {
    "duration": 74,
    "start_time": "2022-01-27T17:13:17.326Z"
   },
   {
    "duration": 88,
    "start_time": "2022-01-27T17:13:20.014Z"
   },
   {
    "duration": 65,
    "start_time": "2022-01-27T17:13:41.484Z"
   },
   {
    "duration": 106,
    "start_time": "2022-01-27T17:14:19.423Z"
   },
   {
    "duration": 113,
    "start_time": "2022-01-27T17:14:36.373Z"
   },
   {
    "duration": 118,
    "start_time": "2022-01-27T17:26:08.259Z"
   },
   {
    "duration": 156,
    "start_time": "2022-01-27T17:26:15.597Z"
   },
   {
    "duration": 362,
    "start_time": "2022-01-27T17:26:26.708Z"
   },
   {
    "duration": 82,
    "start_time": "2022-01-27T17:28:59.525Z"
   },
   {
    "duration": 60,
    "start_time": "2022-01-27T17:29:06.915Z"
   },
   {
    "duration": 361,
    "start_time": "2022-01-27T17:43:39.909Z"
   },
   {
    "duration": 350,
    "start_time": "2022-01-27T17:44:04.859Z"
   },
   {
    "duration": 348,
    "start_time": "2022-01-27T17:44:27.566Z"
   },
   {
    "duration": 386,
    "start_time": "2022-01-27T17:44:34.238Z"
   },
   {
    "duration": 337,
    "start_time": "2022-01-27T17:44:54.742Z"
   },
   {
    "duration": 411,
    "start_time": "2022-01-29T13:13:51.072Z"
   },
   {
    "duration": 921,
    "start_time": "2022-01-29T13:13:56.160Z"
   },
   {
    "duration": 46,
    "start_time": "2022-01-29T13:14:00.156Z"
   },
   {
    "duration": 534,
    "start_time": "2022-01-29T13:14:02.341Z"
   },
   {
    "duration": 385,
    "start_time": "2022-01-29T13:14:37.716Z"
   },
   {
    "duration": 28,
    "start_time": "2022-01-29T13:15:42.873Z"
   },
   {
    "duration": 30,
    "start_time": "2022-01-29T13:15:58.195Z"
   },
   {
    "duration": 31,
    "start_time": "2022-01-29T13:16:29.066Z"
   },
   {
    "duration": 28,
    "start_time": "2022-01-29T13:16:36.882Z"
   },
   {
    "duration": 6,
    "start_time": "2022-01-29T14:15:41.839Z"
   },
   {
    "duration": 53,
    "start_time": "2022-01-29T14:15:59.834Z"
   },
   {
    "duration": 29,
    "start_time": "2022-01-29T14:16:10.537Z"
   },
   {
    "duration": 30,
    "start_time": "2022-01-29T14:17:35.455Z"
   },
   {
    "duration": 416,
    "start_time": "2022-01-29T14:17:42.684Z"
   },
   {
    "duration": 32,
    "start_time": "2022-01-29T14:17:45.866Z"
   },
   {
    "duration": 51,
    "start_time": "2022-01-29T14:18:13.934Z"
   },
   {
    "duration": 25,
    "start_time": "2022-01-29T14:18:28.814Z"
   },
   {
    "duration": 31,
    "start_time": "2022-01-29T14:18:38.014Z"
   },
   {
    "duration": 34,
    "start_time": "2022-01-29T14:45:01.986Z"
   },
   {
    "duration": 18,
    "start_time": "2022-01-29T14:46:26.377Z"
   },
   {
    "duration": 16,
    "start_time": "2022-01-29T14:46:41.327Z"
   },
   {
    "duration": 439,
    "start_time": "2022-01-29T14:48:57.509Z"
   },
   {
    "duration": 19,
    "start_time": "2022-01-29T14:49:43.008Z"
   },
   {
    "duration": 15,
    "start_time": "2022-01-29T14:51:47.899Z"
   },
   {
    "duration": 128,
    "start_time": "2022-01-29T14:58:25.429Z"
   },
   {
    "duration": 433,
    "start_time": "2022-01-29T15:02:54.142Z"
   },
   {
    "duration": 1270,
    "start_time": "2022-01-29T15:03:42.570Z"
   },
   {
    "duration": 1236,
    "start_time": "2022-01-29T15:05:41.354Z"
   },
   {
    "duration": 25,
    "start_time": "2022-01-29T15:07:46.717Z"
   },
   {
    "duration": 17,
    "start_time": "2022-01-29T15:07:54.967Z"
   },
   {
    "duration": 18,
    "start_time": "2022-01-29T15:09:20.443Z"
   },
   {
    "duration": 401,
    "start_time": "2022-01-29T15:09:29.773Z"
   },
   {
    "duration": 518,
    "start_time": "2022-01-29T15:09:36.325Z"
   },
   {
    "duration": 18,
    "start_time": "2022-01-29T15:09:40.611Z"
   },
   {
    "duration": 18,
    "start_time": "2022-01-29T15:10:24.591Z"
   },
   {
    "duration": 17,
    "start_time": "2022-01-29T15:11:22.191Z"
   },
   {
    "duration": 17,
    "start_time": "2022-01-29T15:14:08.786Z"
   },
   {
    "duration": 19,
    "start_time": "2022-01-29T15:14:44.981Z"
   },
   {
    "duration": 19,
    "start_time": "2022-01-29T15:14:59.195Z"
   },
   {
    "duration": 18,
    "start_time": "2022-01-29T15:21:24.103Z"
   },
   {
    "duration": 18,
    "start_time": "2022-01-29T15:21:39.395Z"
   },
   {
    "duration": 16,
    "start_time": "2022-01-29T15:21:47.584Z"
   },
   {
    "duration": 409,
    "start_time": "2022-01-29T15:33:05.690Z"
   },
   {
    "duration": 14,
    "start_time": "2022-01-29T15:33:10.719Z"
   },
   {
    "duration": 392,
    "start_time": "2022-01-29T16:16:19.193Z"
   },
   {
    "duration": 16,
    "start_time": "2022-01-29T16:16:24.494Z"
   },
   {
    "duration": 393,
    "start_time": "2022-01-29T16:18:26.109Z"
   },
   {
    "duration": 476,
    "start_time": "2022-01-29T16:22:33.447Z"
   },
   {
    "duration": 15,
    "start_time": "2022-01-29T16:22:49.041Z"
   },
   {
    "duration": 1179,
    "start_time": "2022-01-30T09:37:33.674Z"
   },
   {
    "duration": 243,
    "start_time": "2022-01-30T09:37:34.856Z"
   },
   {
    "duration": 90,
    "start_time": "2022-01-30T09:37:35.102Z"
   },
   {
    "duration": 68,
    "start_time": "2022-01-30T09:37:35.195Z"
   },
   {
    "duration": 96,
    "start_time": "2022-01-30T09:37:35.266Z"
   },
   {
    "duration": 87,
    "start_time": "2022-01-30T09:37:35.365Z"
   },
   {
    "duration": 65,
    "start_time": "2022-01-30T09:37:35.454Z"
   },
   {
    "duration": 82,
    "start_time": "2022-01-30T09:37:35.522Z"
   },
   {
    "duration": 65,
    "start_time": "2022-01-30T09:37:35.608Z"
   },
   {
    "duration": 1256,
    "start_time": "2022-01-30T09:37:35.676Z"
   },
   {
    "duration": 66,
    "start_time": "2022-01-30T09:37:36.935Z"
   },
   {
    "duration": 225,
    "start_time": "2022-01-30T09:55:22.656Z"
   },
   {
    "duration": 612,
    "start_time": "2022-01-30T09:55:28.618Z"
   },
   {
    "duration": 283,
    "start_time": "2022-01-30T09:55:34.285Z"
   },
   {
    "duration": 103,
    "start_time": "2022-01-30T09:55:53.669Z"
   },
   {
    "duration": 109,
    "start_time": "2022-01-30T09:55:57.038Z"
   },
   {
    "duration": 102,
    "start_time": "2022-01-30T09:56:05.634Z"
   },
   {
    "duration": 877,
    "start_time": "2022-01-31T12:54:16.468Z"
   },
   {
    "duration": 310,
    "start_time": "2022-01-31T12:54:19.427Z"
   },
   {
    "duration": 7,
    "start_time": "2022-01-31T12:54:21.539Z"
   },
   {
    "duration": 7,
    "start_time": "2022-01-31T12:57:35.919Z"
   },
   {
    "duration": 394,
    "start_time": "2022-01-31T12:59:34.505Z"
   },
   {
    "duration": 108,
    "start_time": "2022-01-31T12:59:40.084Z"
   },
   {
    "duration": 20,
    "start_time": "2022-01-31T12:59:43.196Z"
   },
   {
    "duration": 3224,
    "start_time": "2022-01-31T13:00:50.299Z"
   },
   {
    "duration": 1393,
    "start_time": "2022-01-31T13:00:55.777Z"
   },
   {
    "duration": 2553,
    "start_time": "2022-01-31T13:01:04.754Z"
   },
   {
    "duration": 116,
    "start_time": "2022-01-31T13:01:10.973Z"
   },
   {
    "duration": 112,
    "start_time": "2022-01-31T13:01:17.154Z"
   },
   {
    "duration": 9,
    "start_time": "2022-01-31T13:02:11.783Z"
   },
   {
    "duration": 15,
    "start_time": "2022-01-31T13:02:13.668Z"
   },
   {
    "duration": 9,
    "start_time": "2022-01-31T13:03:24.240Z"
   },
   {
    "duration": 10,
    "start_time": "2022-01-31T13:05:07.955Z"
   },
   {
    "duration": 15,
    "start_time": "2022-01-31T13:05:10.460Z"
   },
   {
    "duration": 82,
    "start_time": "2022-01-31T13:06:16.233Z"
   },
   {
    "duration": 7,
    "start_time": "2022-01-31T13:06:18.216Z"
   },
   {
    "duration": 291,
    "start_time": "2022-01-31T13:07:46.889Z"
   },
   {
    "duration": 133,
    "start_time": "2022-01-31T13:07:50.513Z"
   },
   {
    "duration": 8,
    "start_time": "2022-01-31T13:07:52.918Z"
   },
   {
    "duration": 144,
    "start_time": "2022-01-31T13:10:36.839Z"
   },
   {
    "duration": 12,
    "start_time": "2022-01-31T13:10:38.483Z"
   },
   {
    "duration": 9,
    "start_time": "2022-01-31T13:35:40.835Z"
   },
   {
    "duration": 11,
    "start_time": "2022-01-31T13:35:52.243Z"
   },
   {
    "duration": 10,
    "start_time": "2022-01-31T13:35:57.362Z"
   },
   {
    "duration": 8,
    "start_time": "2022-01-31T13:36:59.871Z"
   },
   {
    "duration": 10,
    "start_time": "2022-01-31T13:38:10.804Z"
   },
   {
    "duration": 11,
    "start_time": "2022-01-31T13:39:33.313Z"
   },
   {
    "duration": 11,
    "start_time": "2022-01-31T13:39:58.646Z"
   },
   {
    "duration": 350,
    "start_time": "2022-01-31T13:58:40.295Z"
   },
   {
    "duration": 365,
    "start_time": "2022-01-31T14:02:31.947Z"
   },
   {
    "duration": 542,
    "start_time": "2022-01-31T14:03:23.981Z"
   },
   {
    "duration": 94,
    "start_time": "2022-01-31T14:08:41.575Z"
   },
   {
    "duration": 353,
    "start_time": "2022-01-31T14:09:04.240Z"
   },
   {
    "duration": 397,
    "start_time": "2022-01-31T14:09:16.868Z"
   },
   {
    "duration": 92,
    "start_time": "2022-01-31T14:09:22.935Z"
   },
   {
    "duration": 753,
    "start_time": "2022-01-31T14:10:03.951Z"
   },
   {
    "duration": 350,
    "start_time": "2022-01-31T14:10:13.018Z"
   },
   {
    "duration": 92,
    "start_time": "2022-01-31T14:10:23.290Z"
   },
   {
    "duration": 359,
    "start_time": "2022-01-31T14:10:44.179Z"
   },
   {
    "duration": 504,
    "start_time": "2022-01-31T14:11:18.061Z"
   },
   {
    "duration": 370,
    "start_time": "2022-01-31T14:11:30.299Z"
   },
   {
    "duration": 388,
    "start_time": "2022-01-31T14:12:15.961Z"
   },
   {
    "duration": 358,
    "start_time": "2022-01-31T14:12:26.709Z"
   },
   {
    "duration": 394,
    "start_time": "2022-01-31T14:13:32.841Z"
   },
   {
    "duration": 115,
    "start_time": "2022-01-31T14:17:31.142Z"
   },
   {
    "duration": 114,
    "start_time": "2022-01-31T14:17:36.898Z"
   },
   {
    "duration": 115,
    "start_time": "2022-01-31T14:17:41.888Z"
   },
   {
    "duration": 385,
    "start_time": "2022-01-31T14:17:47.048Z"
   },
   {
    "duration": 492,
    "start_time": "2022-01-31T14:17:51.161Z"
   },
   {
    "duration": 114,
    "start_time": "2022-01-31T14:17:55.026Z"
   },
   {
    "duration": 126,
    "start_time": "2022-01-31T14:18:00.971Z"
   },
   {
    "duration": 387,
    "start_time": "2022-01-31T14:20:03.987Z"
   },
   {
    "duration": 371,
    "start_time": "2022-01-31T14:24:41.865Z"
   },
   {
    "duration": 468,
    "start_time": "2022-01-31T14:26:20.407Z"
   },
   {
    "duration": 497,
    "start_time": "2022-01-31T14:27:31.846Z"
   },
   {
    "duration": 82,
    "start_time": "2022-01-31T14:27:39.910Z"
   },
   {
    "duration": 81,
    "start_time": "2022-01-31T14:27:49.869Z"
   },
   {
    "duration": 83,
    "start_time": "2022-01-31T14:29:24.201Z"
   },
   {
    "duration": 82,
    "start_time": "2022-01-31T14:29:46.574Z"
   },
   {
    "duration": 105,
    "start_time": "2022-01-31T14:30:24.646Z"
   },
   {
    "duration": 375,
    "start_time": "2022-01-31T14:32:08.585Z"
   },
   {
    "duration": 114,
    "start_time": "2022-01-31T14:32:22.648Z"
   },
   {
    "duration": 114,
    "start_time": "2022-01-31T14:33:21.852Z"
   },
   {
    "duration": 112,
    "start_time": "2022-01-31T14:33:35.729Z"
   },
   {
    "duration": 104,
    "start_time": "2022-01-31T14:34:17.660Z"
   },
   {
    "duration": 103,
    "start_time": "2022-01-31T14:36:55.196Z"
   },
   {
    "duration": 108,
    "start_time": "2022-01-31T14:37:23.082Z"
   },
   {
    "duration": 112,
    "start_time": "2022-01-31T14:43:46.404Z"
   },
   {
    "duration": 114,
    "start_time": "2022-01-31T14:44:04.059Z"
   },
   {
    "duration": 113,
    "start_time": "2022-01-31T14:44:53.213Z"
   },
   {
    "duration": 365,
    "start_time": "2022-01-31T14:46:16.361Z"
   },
   {
    "duration": 369,
    "start_time": "2022-01-31T14:46:22.044Z"
   },
   {
    "duration": 116,
    "start_time": "2022-01-31T14:46:25.627Z"
   },
   {
    "duration": 114,
    "start_time": "2022-01-31T14:47:32.598Z"
   },
   {
    "duration": 116,
    "start_time": "2022-01-31T14:47:42.018Z"
   },
   {
    "duration": 115,
    "start_time": "2022-01-31T14:47:48.037Z"
   },
   {
    "duration": 116,
    "start_time": "2022-01-31T14:47:54.769Z"
   },
   {
    "duration": 114,
    "start_time": "2022-01-31T14:47:59.529Z"
   },
   {
    "duration": 119,
    "start_time": "2022-01-31T14:48:05.069Z"
   },
   {
    "duration": 114,
    "start_time": "2022-01-31T14:48:16.119Z"
   },
   {
    "duration": 117,
    "start_time": "2022-01-31T14:49:10.369Z"
   },
   {
    "duration": 116,
    "start_time": "2022-01-31T14:51:59.671Z"
   },
   {
    "duration": 125,
    "start_time": "2022-01-31T14:52:47.262Z"
   },
   {
    "duration": 124,
    "start_time": "2022-01-31T14:53:06.986Z"
   },
   {
    "duration": 123,
    "start_time": "2022-01-31T14:54:04.999Z"
   },
   {
    "duration": 122,
    "start_time": "2022-01-31T14:54:16.262Z"
   },
   {
    "duration": 127,
    "start_time": "2022-01-31T14:54:42.477Z"
   },
   {
    "duration": 898,
    "start_time": "2022-01-31T14:56:19.538Z"
   },
   {
    "duration": 308,
    "start_time": "2022-01-31T14:56:20.439Z"
   },
   {
    "duration": 6,
    "start_time": "2022-01-31T14:56:20.749Z"
   },
   {
    "duration": 123,
    "start_time": "2022-01-31T14:56:20.758Z"
   },
   {
    "duration": 9,
    "start_time": "2022-01-31T14:56:20.884Z"
   },
   {
    "duration": 22,
    "start_time": "2022-01-31T14:56:20.896Z"
   },
   {
    "duration": 78,
    "start_time": "2022-01-31T14:56:20.921Z"
   },
   {
    "duration": 7,
    "start_time": "2022-01-31T14:56:21.002Z"
   },
   {
    "duration": 112,
    "start_time": "2022-01-31T14:56:21.011Z"
   },
   {
    "duration": 7,
    "start_time": "2022-01-31T14:56:21.125Z"
   },
   {
    "duration": 122,
    "start_time": "2022-01-31T14:56:21.134Z"
   },
   {
    "duration": 10,
    "start_time": "2022-01-31T14:56:21.258Z"
   },
   {
    "duration": 10,
    "start_time": "2022-01-31T14:56:21.271Z"
   },
   {
    "duration": 9,
    "start_time": "2022-01-31T14:56:21.283Z"
   },
   {
    "duration": 57,
    "start_time": "2022-01-31T14:56:21.295Z"
   },
   {
    "duration": 8,
    "start_time": "2022-01-31T14:56:21.354Z"
   },
   {
    "duration": 11,
    "start_time": "2022-01-31T14:56:21.364Z"
   },
   {
    "duration": 75,
    "start_time": "2022-01-31T14:56:21.377Z"
   },
   {
    "duration": 100,
    "start_time": "2022-01-31T14:56:21.454Z"
   },
   {
    "duration": 74,
    "start_time": "2022-01-31T14:56:21.556Z"
   },
   {
    "duration": 77,
    "start_time": "2022-01-31T14:56:21.633Z"
   },
   {
    "duration": 74,
    "start_time": "2022-01-31T14:56:21.713Z"
   },
   {
    "duration": 11,
    "start_time": "2022-01-31T14:57:07.609Z"
   },
   {
    "duration": 403,
    "start_time": "2022-01-31T14:57:43.256Z"
   },
   {
    "duration": 8,
    "start_time": "2022-01-31T14:57:48.990Z"
   },
   {
    "duration": 10,
    "start_time": "2022-01-31T14:59:25.414Z"
   },
   {
    "duration": 9,
    "start_time": "2022-01-31T14:59:38.815Z"
   },
   {
    "duration": 10,
    "start_time": "2022-01-31T14:59:57.103Z"
   },
   {
    "duration": 14,
    "start_time": "2022-01-31T15:00:35.755Z"
   },
   {
    "duration": 16,
    "start_time": "2022-01-31T15:00:49.625Z"
   },
   {
    "duration": 11,
    "start_time": "2022-01-31T15:01:26.966Z"
   },
   {
    "duration": 14,
    "start_time": "2022-01-31T15:01:41.065Z"
   },
   {
    "duration": 13,
    "start_time": "2022-01-31T15:01:43.852Z"
   },
   {
    "duration": 13,
    "start_time": "2022-01-31T15:01:56.033Z"
   },
   {
    "duration": 13,
    "start_time": "2022-01-31T15:02:03.513Z"
   },
   {
    "duration": 13,
    "start_time": "2022-01-31T15:02:07.603Z"
   },
   {
    "duration": 13,
    "start_time": "2022-01-31T15:02:09.621Z"
   },
   {
    "duration": 952,
    "start_time": "2022-01-31T15:03:21.905Z"
   },
   {
    "duration": 271,
    "start_time": "2022-01-31T15:03:22.861Z"
   },
   {
    "duration": 6,
    "start_time": "2022-01-31T15:03:23.136Z"
   },
   {
    "duration": 110,
    "start_time": "2022-01-31T15:03:23.144Z"
   },
   {
    "duration": 9,
    "start_time": "2022-01-31T15:03:23.256Z"
   },
   {
    "duration": 23,
    "start_time": "2022-01-31T15:03:23.267Z"
   },
   {
    "duration": 15,
    "start_time": "2022-01-31T15:03:23.292Z"
   },
   {
    "duration": 44,
    "start_time": "2022-01-31T15:03:23.309Z"
   },
   {
    "duration": 22,
    "start_time": "2022-01-31T15:03:23.358Z"
   },
   {
    "duration": 80,
    "start_time": "2022-01-31T15:03:23.383Z"
   },
   {
    "duration": 6,
    "start_time": "2022-01-31T15:03:23.466Z"
   },
   {
    "duration": 121,
    "start_time": "2022-01-31T15:03:23.474Z"
   },
   {
    "duration": 8,
    "start_time": "2022-01-31T15:03:23.598Z"
   },
   {
    "duration": 99,
    "start_time": "2022-01-31T15:03:23.609Z"
   },
   {
    "duration": 10,
    "start_time": "2022-01-31T15:03:23.710Z"
   },
   {
    "duration": 13,
    "start_time": "2022-01-31T15:03:23.722Z"
   },
   {
    "duration": 15,
    "start_time": "2022-01-31T15:03:23.738Z"
   },
   {
    "duration": 10,
    "start_time": "2022-01-31T15:03:23.756Z"
   },
   {
    "duration": 14,
    "start_time": "2022-01-31T15:03:23.768Z"
   },
   {
    "duration": 16,
    "start_time": "2022-01-31T15:03:23.784Z"
   },
   {
    "duration": 77,
    "start_time": "2022-01-31T15:03:23.802Z"
   },
   {
    "duration": 97,
    "start_time": "2022-01-31T15:03:23.882Z"
   },
   {
    "duration": 75,
    "start_time": "2022-01-31T15:03:23.981Z"
   },
   {
    "duration": 77,
    "start_time": "2022-01-31T15:03:24.059Z"
   },
   {
    "duration": 75,
    "start_time": "2022-01-31T15:03:24.139Z"
   },
   {
    "duration": 7,
    "start_time": "2022-01-31T15:06:25.142Z"
   },
   {
    "duration": 10,
    "start_time": "2022-01-31T15:06:27.189Z"
   },
   {
    "duration": 8,
    "start_time": "2022-01-31T15:07:58.121Z"
   },
   {
    "duration": 9,
    "start_time": "2022-01-31T15:08:00.901Z"
   },
   {
    "duration": 8,
    "start_time": "2022-01-31T15:08:02.952Z"
   },
   {
    "duration": 9,
    "start_time": "2022-01-31T15:08:31.727Z"
   },
   {
    "duration": 10,
    "start_time": "2022-01-31T15:08:32.934Z"
   },
   {
    "duration": 9,
    "start_time": "2022-01-31T15:08:34.678Z"
   },
   {
    "duration": 9,
    "start_time": "2022-01-31T15:08:36.375Z"
   },
   {
    "duration": 9,
    "start_time": "2022-01-31T15:08:42.000Z"
   },
   {
    "duration": 93,
    "start_time": "2022-01-31T15:10:13.087Z"
   },
   {
    "duration": 9,
    "start_time": "2022-01-31T15:10:23.224Z"
   },
   {
    "duration": 8,
    "start_time": "2022-01-31T15:10:33.583Z"
   },
   {
    "duration": 8,
    "start_time": "2022-01-31T15:10:43.295Z"
   },
   {
    "duration": 1116,
    "start_time": "2022-01-31T15:10:48.569Z"
   },
   {
    "duration": 290,
    "start_time": "2022-01-31T15:10:49.687Z"
   },
   {
    "duration": 7,
    "start_time": "2022-01-31T15:10:49.980Z"
   },
   {
    "duration": 107,
    "start_time": "2022-01-31T15:10:49.990Z"
   },
   {
    "duration": 11,
    "start_time": "2022-01-31T15:10:50.100Z"
   },
   {
    "duration": 29,
    "start_time": "2022-01-31T15:10:50.114Z"
   },
   {
    "duration": 14,
    "start_time": "2022-01-31T15:10:50.145Z"
   },
   {
    "duration": 13,
    "start_time": "2022-01-31T15:10:50.161Z"
   },
   {
    "duration": 15,
    "start_time": "2022-01-31T15:10:50.178Z"
   },
   {
    "duration": 81,
    "start_time": "2022-01-31T15:10:50.196Z"
   },
   {
    "duration": 7,
    "start_time": "2022-01-31T15:10:50.280Z"
   },
   {
    "duration": 117,
    "start_time": "2022-01-31T15:10:50.289Z"
   },
   {
    "duration": 8,
    "start_time": "2022-01-31T15:10:50.408Z"
   },
   {
    "duration": 102,
    "start_time": "2022-01-31T15:10:50.418Z"
   },
   {
    "duration": 10,
    "start_time": "2022-01-31T15:10:50.522Z"
   },
   {
    "duration": 12,
    "start_time": "2022-01-31T15:10:50.534Z"
   },
   {
    "duration": 17,
    "start_time": "2022-01-31T15:10:50.548Z"
   },
   {
    "duration": 8,
    "start_time": "2022-01-31T15:10:50.567Z"
   },
   {
    "duration": 9,
    "start_time": "2022-01-31T15:10:50.577Z"
   },
   {
    "duration": 18,
    "start_time": "2022-01-31T15:10:50.589Z"
   },
   {
    "duration": 10,
    "start_time": "2022-01-31T15:10:50.609Z"
   },
   {
    "duration": 78,
    "start_time": "2022-01-31T15:10:50.649Z"
   },
   {
    "duration": 114,
    "start_time": "2022-01-31T15:10:50.730Z"
   },
   {
    "duration": 81,
    "start_time": "2022-01-31T15:10:50.847Z"
   },
   {
    "duration": 84,
    "start_time": "2022-01-31T15:10:50.931Z"
   },
   {
    "duration": 83,
    "start_time": "2022-01-31T15:10:51.018Z"
   },
   {
    "duration": 762,
    "start_time": "2022-01-31T17:52:44.387Z"
   },
   {
    "duration": 326,
    "start_time": "2022-01-31T17:53:12.803Z"
   },
   {
    "duration": 121,
    "start_time": "2022-01-31T17:53:24.516Z"
   }
  ],
  "kernelspec": {
   "display_name": "Python 3",
   "language": "python",
   "name": "python3"
  },
  "language_info": {
   "codemirror_mode": {
    "name": "ipython",
    "version": 3
   },
   "file_extension": ".py",
   "mimetype": "text/x-python",
   "name": "python",
   "nbconvert_exporter": "python",
   "pygments_lexer": "ipython3",
   "version": "3.8.8"
  },
  "toc": {
   "base_numbering": 1,
   "nav_menu": {},
   "number_sections": true,
   "sideBar": true,
   "skip_h1_title": true,
   "title_cell": "Table of Contents",
   "title_sidebar": "Contents",
   "toc_cell": false,
   "toc_position": {},
   "toc_section_display": true,
   "toc_window_display": false
  }
 },
 "nbformat": 4,
 "nbformat_minor": 2
}
